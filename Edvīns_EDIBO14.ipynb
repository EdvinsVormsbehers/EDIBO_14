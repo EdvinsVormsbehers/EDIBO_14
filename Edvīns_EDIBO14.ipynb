{
  "nbformat": 4,
  "nbformat_minor": 0,
  "metadata": {
    "colab": {
      "name": "Edvīns.EDIBO14.ipynb",
      "provenance": [],
      "authorship_tag": "ABX9TyNsku+YfJ4UksWD/Ta5B4kj",
      "include_colab_link": true
    },
    "kernelspec": {
      "name": "python3",
      "display_name": "Python 3"
    },
    "language_info": {
      "name": "python"
    }
  },
  "cells": [
    {
      "cell_type": "markdown",
      "metadata": {
        "id": "view-in-github",
        "colab_type": "text"
      },
      "source": [
        "<a href=\"https://colab.research.google.com/github/EdvinsVormsbehers/EDIBO_14/blob/main/Edv%C4%ABns_EDIBO14.ipynb\" target=\"_parent\"><img src=\"https://colab.research.google.com/assets/colab-badge.svg\" alt=\"Open In Colab\"/></a>"
      ]
    },
    {
      "cell_type": "markdown",
      "metadata": {
        "id": "Oe1Vhr8WTF_m"
      },
      "source": [
        "Shows all data from albums table with GenreId from 5 to 15."
      ]
    },
    {
      "cell_type": "code",
      "metadata": {
        "id": "UJGB0iZTIFjf"
      },
      "source": [
        "USE music_shop;\n",
        "SELECT *\n",
        "FROM albums\n",
        "WHERE AlbumId BETWEEN 5 AND 15;"
      ],
      "execution_count": null,
      "outputs": []
    },
    {
      "cell_type": "markdown",
      "metadata": {
        "id": "ICJm218ATPDd"
      },
      "source": [
        "Shows all data from invoices which has both arguments true."
      ]
    },
    {
      "cell_type": "code",
      "metadata": {
        "id": "uIySy3dpI2rO"
      },
      "source": [
        "USE music_shop;\n",
        "SELECT *\n",
        "FROM invoices\n",
        "WHERE (BillingCountry = 'Germany' AND BillingCity = 'Berlin');"
      ],
      "execution_count": null,
      "outputs": []
    },
    {
      "cell_type": "markdown",
      "metadata": {
        "id": "GwcDiStbTWgF"
      },
      "source": [
        "Shows all data from invices which has both arguments true OR third argument true."
      ]
    },
    {
      "cell_type": "code",
      "metadata": {
        "id": "io5CTNsJJLwd"
      },
      "source": [
        "USE music_shop;\n",
        "SELECT *\n",
        "FROM invoices\n",
        "WHERE (BillingCountry = 'Germany' AND BillingCity = 'Berlin')\n",
        "OR (CustomerId>50);"
      ],
      "execution_count": null,
      "outputs": []
    },
    {
      "cell_type": "markdown",
      "metadata": {
        "id": "Ezl-dF-nTvY9"
      },
      "source": [
        "Shows all data which has at least one of the arguments true."
      ]
    },
    {
      "cell_type": "code",
      "metadata": {
        "id": "-CMCRh7JJcMN"
      },
      "source": [
        "USE music_shop;\n",
        "SELECT *\n",
        "FROM invoices\n",
        "WHERE (BillingCountry = 'Germany' OR BillingCity = 'London');"
      ],
      "execution_count": null,
      "outputs": []
    },
    {
      "cell_type": "markdown",
      "metadata": {
        "id": "k7na-PZnT3Yt"
      },
      "source": [
        "Shows data from invoices.BillingCity and customers.LastName just for the CustomerID rows that matches in both invoices and customer tables."
      ]
    },
    {
      "cell_type": "code",
      "metadata": {
        "id": "3XziHndYJiml"
      },
      "source": [
        "USE music_shop;\n",
        "SELECT invoices.CustomerId, invoices.BillingCity, customers.LastName\n",
        "FROM invoices\n",
        "INNER JOIN customers\n",
        "ON invoices.CustomerId = customers.CustomerId;"
      ],
      "execution_count": null,
      "outputs": []
    },
    {
      "cell_type": "code",
      "metadata": {
        "id": "kSBjoB4dJrBF"
      },
      "source": [
        "USE music_shop;\n",
        "SELECT invoices.CustomerId, invoices.BillingCity, customers.LastName\n",
        "FROM invoices\n",
        "LEFT JOIN customers\n",
        "ON invoices.CustomerId = customers.CustomerId;"
      ],
      "execution_count": null,
      "outputs": []
    },
    {
      "cell_type": "code",
      "metadata": {
        "id": "3b7ZyqTdJ8nV"
      },
      "source": [
        "USE music_shop;\n",
        "SELECT invoices.CustomerId, invoices.BillingCity, customers.LastName\n",
        "FROM invoices\n",
        "RIGHT JOIN customers\n",
        "ON invoices.CustomerId = customers.CustomerId;"
      ],
      "execution_count": null,
      "outputs": []
    },
    {
      "cell_type": "markdown",
      "metadata": {
        "id": "VPglgNUdUA_V"
      },
      "source": [
        "Shows ArtistId data from two tables without duplicating the data."
      ]
    },
    {
      "cell_type": "code",
      "metadata": {
        "id": "LbDj5NAPKJG9"
      },
      "source": [
        "USE music_shop;\n",
        "SELECT ArtistId \n",
        "FROM artists\n",
        "UNION\n",
        "SELECT ArtistId\n",
        "FROM albums"
      ],
      "execution_count": null,
      "outputs": []
    },
    {
      "cell_type": "markdown",
      "metadata": {
        "id": "zmxM_MS3UH5V"
      },
      "source": [
        "Shows data from column FirstName and changed data from column city in new column Location."
      ]
    },
    {
      "cell_type": "code",
      "metadata": {
        "id": "TdEggL9bK2a9"
      },
      "source": [
        "USE music_shop;\n",
        "SELECT FirstName, CASE City\n",
        "                 WHEN 'Calgary' THEN 'From Calgary'\n",
        "                 WHEN 'Edmonton' THEN 'From Edmonton'\n",
        "                 ELSE 'From Space'\n",
        "                 END AS Location\n",
        "\n",
        "FROM employees\n",
        "ORDER BY Location;"
      ],
      "execution_count": null,
      "outputs": []
    },
    {
      "cell_type": "markdown",
      "metadata": {
        "id": "sMH5D072UfGc"
      },
      "source": [
        "Same construction method as above but uses <>= this time."
      ]
    },
    {
      "cell_type": "code",
      "metadata": {
        "id": "PxmiubKoLnDd"
      },
      "source": [
        "USE music_shop;\n",
        "SELECT CustomerId,\n",
        " CASE \n",
        "  WHEN Total < 2 THEN 'Small purchase'\n",
        "  WHEN Total < 7 THEN 'Average'\n",
        "  ELSE 'Good one'\n",
        "  END Purchase_volume\n",
        "FROM invoices\n",
        "ORDER BY Purchase_volume;"
      ],
      "execution_count": null,
      "outputs": []
    },
    {
      "cell_type": "markdown",
      "metadata": {
        "id": "8HvFMRb0Uly8"
      },
      "source": [
        "Shows LastName, FirstName,Title data from employees table for entities where city=Calgary. Limit shows- how many entries will be shown.ORDER BY can be ASC (Ascending) or DESC (Descending) order."
      ]
    },
    {
      "cell_type": "code",
      "metadata": {
        "id": "h6py7hYbMzgF"
      },
      "source": [
        "USE music_shop;\n",
        "SELECT LastName, FirstName, Title\n",
        "FROM employees\n",
        "WHERE City = 'Calgary'\n",
        "ORDER BY LastName\n",
        "Limit 5;"
      ],
      "execution_count": null,
      "outputs": []
    },
    {
      "cell_type": "markdown",
      "metadata": {
        "id": "XMd8pNnsUQjt"
      },
      "source": [
        "Creates users table."
      ]
    },
    {
      "cell_type": "code",
      "metadata": {
        "id": "DSr8kdsXS1is"
      },
      "source": [
        "USE music_shop;\n",
        "CREATE TABLE users\n",
        "(\n",
        "    UserId INTEGER PRIMARY KEY AUTO_INCREMENT NOT NULL,\n",
        "    UserName NVARCHAR(30)  NOT NULL,\n",
        "    `User` BOOLEAN NULL COMMENT 'Simple user - only view',\n",
        "    `Manager` BOOLEAN NULL COMMENT 'Advanced user - view and modify',\n",
        "    `Admin` BOOLEAN NULL COMMENT 'Super user - view, modify, delete',\n",
        "    EmployeeId INTEGER NULL,\n",
        "    FOREIGN KEY (EmployeeId) REFERENCES employees (EmployeeId)\n",
        "                ON DELETE NO ACTION ON UPDATE NO ACTION\n",
        ");\n",
        "CREATE INDEX IFK_UserEmployeeId ON employees (EmployeeId);"
      ],
      "execution_count": null,
      "outputs": []
    },
    {
      "cell_type": "markdown",
      "metadata": {
        "id": "fFniEgKHYTeK"
      },
      "source": [
        "Add user data and then create alter table for media_types"
      ]
    },
    {
      "cell_type": "code",
      "metadata": {
        "id": "ZffEZCNhTu37"
      },
      "source": [
        "USE music_shop;\n",
        "SELECT * FROM media_types;\n",
        "ALTER TABLE media_types\n",
        "ADD createdAt datetime NOT NULL DEFAULT current_timestamp;\n",
        "\n",
        "ALTER TABLE media_types\n",
        "ADD createdBy integer NOT NULL DEFAULT 1;\n",
        "\n",
        "ALTER TABLE media_types\n",
        "ADD CONSTRAINT IFK_MediaTypesCreateUserId\n",
        "FOREIGN KEY (createdBy) REFERENCES users(UserId);\n",
        "\n",
        "ALTER TABLE media_types\n",
        "MODIFY createdBy integer NOT NULL;\n",
        "\n",
        "SELECT * FROM media_types;"
      ],
      "execution_count": null,
      "outputs": []
    },
    {
      "cell_type": "code",
      "metadata": {
        "id": "A3QBUdlk_-De"
      },
      "source": [
        "USE music_shop;\n",
        "DELIMITER $$\n",
        "CREATE DEFINER = `root`@`localhost` PROCEDURE procedure2(IN inArgument1 int, IN inArgument2 varchar(30), IN inArgument3 datetime, IN inArgument4 bool, IN inCreatedBy int)\n",
        "BEGIN\n",
        "     DECLARE last_Id int;\n",
        "     DECLARE variable1 varchar(20);\n",
        "     DECLARE variable2 int;\n",
        "     DECLARE done INT DEFAULT FALSE;\n",
        "     DECLARE my_cur CURSOR FOR SELECT st1.some_field1, st2.some_field2\n",
        "                              FROM some_table1 st1\n",
        "                              JOIN some_table2 st2 ON st2.some_field=st1.some_field;\n",
        "     DECLARE CONTINUE HANDLER FOR NOT FOUND SET done = TRUE;\n",
        "     INSERT INTO some_table (  Id,      Field1,      Field2,      Field3,     Field4,          createdAt,   createdBy)\n",
        "                     VALUES (NULL, inArgument1, inArgument2, inArgument3, inArgument4, CURRENT_TIMESTAMP, inCreatedBy);\n",
        "     COMMIT;    \n",
        "     SET last_Id=LAST_INSERT_ID();\n",
        "     \n",
        "     OPEN my_cur;\n",
        "     myLoop: LOOP\n",
        "          FETCH my_cur INTO variable1, variable2;\n",
        "          IF done THEN\n",
        "               LEAVE myLoop;\n",
        "          END IF;\n",
        "          CALL procedure2(variable1, variable2);\n",
        "     END LOOP;\n",
        "     CLOSE my_cur;\n",
        "     COMMIT;    \n",
        "END$$\n",
        "DELIMITER ;"
      ],
      "execution_count": null,
      "outputs": []
    },
    {
      "cell_type": "markdown",
      "metadata": {
        "id": "_k04o05UVMvV"
      },
      "source": [
        "With this procedure can be returned select result as well as some amount or value."
      ]
    },
    {
      "cell_type": "code",
      "metadata": {
        "id": "UcsIhQbNETMV"
      },
      "source": [
        "USE music_shop;\n",
        "DELIMITER $$\n",
        "CREATE DEFINER = `root`@`localhost` PROCEDURE `get_invoices_by_empl`(IN inEmplId INT, IN inYear varchar(4), IN inMonth varchar(2), OUT outTotal DEC(10,2))\n",
        "BEGIN\n",
        "   SET @filtr = concat('%',inYear,'-',inMonth,'-%');\n",
        "   SELECT pkEmployeeId, pkCustomerId, pkInvoiceId, InvoiceDate, Total\n",
        "\t\tFROM employees em\n",
        "\t\tJOIN customers c ON em.pkEmployeeId=c.fkSupportRepId\n",
        "\t\tJOIN invoices inv ON c.pkCustomerId=inv.fkCustomerId\n",
        "\t\tWHERE em.pkEmployeeId=inEmplId\n",
        "\t\tAND InvoiceDate LIKE @filtr\n",
        "\t\tORDER BY InvoiceDate ASC;\n",
        "   SET outTotal=(SELECT sum(Total)\n",
        "\t\t\t\tFROM employees em\n",
        "\t\t\t\tJOIN customers c ON em.pkEmployeeId=c.fkSupportRepId\n",
        "\t\t\t\tJOIN invoices inv ON c.pkCustomerId=inv.fkCustomerId\n",
        "\t\t\t\tWHERE em.pkEmployeeId=inEmplId\n",
        "\t\t\t\tAND InvoiceDate LIKE @filtr\n",
        "\t\t\t\tORDER BY InvoiceDate ASC);\n",
        "END$$\n",
        "DELIMITER ; \n",
        "\n",
        "#SET @totalToFill = 0;\n",
        "#CALL get_inoices_by_empl(3,'2013','01',@totalToFill);\n",
        "#SELECT @totalToFill;"
      ],
      "execution_count": null,
      "outputs": []
    },
    {
      "cell_type": "markdown",
      "metadata": {
        "id": "Dv7BAeeiVDWF"
      },
      "source": [
        "Function counts total of invoice using historical prices."
      ]
    },
    {
      "cell_type": "code",
      "metadata": {
        "id": "J0cLiZY5G30L"
      },
      "source": [
        "USE music_shop;\n",
        "DELIMITER $$\n",
        "CREATE DEFINER=`root`@`localhost` FUNCTION `InvoiceTotalAudit`(inInvoiceId int) RETURNS decimal(10,2)\n",
        "    DETERMINISTIC\n",
        "BEGIN\n",
        "DECLARE AuditTotalVar decimal(10,2);\n",
        "SELECT sum(ii.Quantity * ii.UnitPrice) as AuditTotal\n",
        "FROM invoices i\n",
        "\tJOIN invoice_items ii ON ii.fkInvoiceId = i.pkInvoiceId\n",
        "\tJOIN tracks t ON t.pkTrackId = ii.fkTrackId\n",
        "\tJOIN media_types md ON md.pkMediaTypeId = t.fkMediaTypeId\n",
        "\tJOIN genres g ON g.pkGenreId = t.fkGenreId\n",
        "\tJOIN albums al ON al.pkAlbumId = t.fkAlbumId\n",
        "\tJOIN artists ar ON ar.pkArtistId = al.fkArtistId\n",
        "\tWHERE i.pkInvoiceId = inInvoiceId INTO @AuditTotalVar;\n",
        "RETURN (@AuditTotalVar);\n",
        "END$$\n",
        "DELIMITER ;"
      ],
      "execution_count": null,
      "outputs": []
    },
    {
      "cell_type": "code",
      "metadata": {
        "id": "vLWzdITtIAWE"
      },
      "source": [
        "USE music_shop;\n",
        "SELECT 'CREATE TRIGGER before_insert_Artists_only_unique_values' AS '';\n",
        "DELIMITER $$\n",
        "CREATE TRIGGER before_insert_Artists_only_unique_values\n",
        "     BEFORE INSERT ON Artists FOR EACH ROW\n",
        "     BEGIN\n",
        "          IF NEW.Name IN (SELECT Name FROM Artists) THEN\n",
        "               SIGNAL SQLSTATE '45000'\n",
        "                    SET MESSAGE_TEXT = 'Iearakstu nevar izveidot - tāds izpildītājs jau eksistē!';\n",
        "          END IF;\n",
        "     END;$$\n",
        "DELIMITER ;\n",
        "#DROP TRIGGER before_insert_Artists_only_unique_values;"
      ],
      "execution_count": null,
      "outputs": []
    }
  ]
}